{
 "cells": [
  {
   "cell_type": "code",
   "execution_count": 14,
   "metadata": {},
   "outputs": [
    {
     "name": "stdout",
     "output_type": "stream",
     "text": [
      "n\tx\ty\n",
      "0 \t 0.1000 \t 1.1000\n",
      "1 \t 0.2000 \t 1.2220\n",
      "2 \t 0.3000 \t 1.3753\n",
      "3 \t 0.4000 \t 1.5735\n",
      "4 \t 0.5000 \t 1.8371\n",
      "5 \t 0.6000 \t 2.1995\n",
      "Approximate solution at x =  0.0  is  2.199547\n"
     ]
    }
   ],
   "source": [
    "# Python Code to find approximation \n",
    "# of a ordinary differential equation \n",
    "# using euler method. \n",
    "  \n",
    "# Consider a differential equation \n",
    "# dy / dx =(x + y + xy) \n",
    "def func( x, y ): \n",
    "    return (x**2 + y**2) \n",
    "      \n",
    "# Function for euler formula \n",
    "def euler( x0, y, h, x ): \n",
    "    temp = -0\n",
    "    n=0\n",
    "  \n",
    "    # Iterating till the point at which we \n",
    "    # need approximation \n",
    "    while n<=5: \n",
    "        temp = y \n",
    "        y = y + h * func(x0, y) \n",
    "        x0 = x0 + h \n",
    "        print(n,\"\\t\",\"%.4f\"% x0,\"\\t\",\"%.4f\"% y)\n",
    "        n+=1\n",
    "  \n",
    "    # Printing approximation \n",
    "    print(\"Approximate solution at x = \", x, \" is \", \"%.6f\"% y) \n",
    "      \n",
    "# Driver Code \n",
    "# Initial Values \n",
    "x0 = 0\n",
    "y0 = 1\n",
    "h = 0.1\n",
    "  \n",
    "# Value of x at which we need approximation \n",
    "x = 0.0\n",
    "print(\"n\\tx\\ty\")\n",
    "  \n",
    "euler(x0, y0, h, x) "
   ]
  },
  {
   "cell_type": "code",
   "execution_count": null,
   "metadata": {},
   "outputs": [],
   "source": []
  }
 ],
 "metadata": {
  "kernelspec": {
   "display_name": "Python 3",
   "language": "python",
   "name": "python3"
  },
  "language_info": {
   "codemirror_mode": {
    "name": "ipython",
    "version": 3
   },
   "file_extension": ".py",
   "mimetype": "text/x-python",
   "name": "python",
   "nbconvert_exporter": "python",
   "pygments_lexer": "ipython3",
   "version": "3.6.10"
  }
 },
 "nbformat": 4,
 "nbformat_minor": 4
}
